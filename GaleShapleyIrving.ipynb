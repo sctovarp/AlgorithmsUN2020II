{
  "nbformat": 4,
  "nbformat_minor": 0,
  "metadata": {
    "colab": {
      "name": "GaleShapleyIrving.ipynb",
      "provenance": [],
      "collapsed_sections": [],
      "include_colab_link": true
    },
    "kernelspec": {
      "name": "python3",
      "display_name": "Python 3"
    }
  },
  "cells": [
    {
      "cell_type": "markdown",
      "metadata": {
        "id": "view-in-github",
        "colab_type": "text"
      },
      "source": [
        "<a href=\"https://colab.research.google.com/github/sctovarp/AlgorithmsUN2020II/blob/master/GaleShapleyIrving.ipynb\" target=\"_parent\"><img src=\"https://colab.research.google.com/assets/colab-badge.svg\" alt=\"Open In Colab\"/></a>"
      ]
    },
    {
      "cell_type": "markdown",
      "metadata": {
        "id": "7Q1Fp1dJdinB"
      },
      "source": [
        "**Imports**"
      ]
    },
    {
      "cell_type": "code",
      "metadata": {
        "id": "18nTc6Z5aoN8"
      },
      "source": [
        "import copy\n",
        "import random\n",
        "import matplotlib.pyplot as plt\n",
        "import numpy as np"
      ],
      "execution_count": 1,
      "outputs": []
    },
    {
      "cell_type": "markdown",
      "metadata": {
        "id": "VSepTtXHTWX3"
      },
      "source": [
        "## Gale-Shapley "
      ]
    },
    {
      "cell_type": "code",
      "metadata": {
        "id": "8iaar3Iqg0Kn"
      },
      "source": [
        "# Number of Men or Women \n",
        "N = 0\n",
        "  \n",
        "# This function returns true if  \n",
        "# woman 'w' prefers man 'm1' over man 'm' \n",
        "def wPrefersM1OverM(prefer, w, m, m1, n): \n",
        "      \n",
        "    N = n  \n",
        "    # Check if w prefers m over her  \n",
        "    # current engagment m1 \n",
        "    for i in range(N): \n",
        "          \n",
        "        # If m1 comes before m in lisr of w,  \n",
        "        # then w prefers her current engagement, \n",
        "        # don't do anything \n",
        "        if (prefer[w][i] == m1): \n",
        "            return True\n",
        "  \n",
        "        # If m cmes before m1 in w's list,  \n",
        "        # then free her current engagement  \n",
        "        # and engage her with m \n",
        "        if (prefer[w][i] == m): \n",
        "            return False\n",
        "            \n",
        "# Prints stable matching for N boys and N girls.  \n",
        "# Boys are numbered as 0 to N-1.  \n",
        "# Girls are numbereed as N to 2N-1. \n",
        "def stableMarriage(prefer, n): \n",
        "      \n",
        "    # Stores partner of women. This is our output  \n",
        "    # array that stores paing information.  \n",
        "    # The value of wPartner[i] indicates the partner  \n",
        "    # assigned to woman N+i. Note that the woman numbers  \n",
        "    # between N and 2*N-1. The value -1 indicates  \n",
        "    # that (N+i)'th woman is free \n",
        "    N = n\n",
        "    wPartner = [-1 for i in range(N)] \n",
        "  \n",
        "    # An array to store availability of men.  \n",
        "    # If mFree[i] is false, then man 'i' is free, \n",
        "    # otherwise engaged. \n",
        "    mFree = [False for i in range(N)] \n",
        "  \n",
        "    freeCount = N \n",
        "    count = 0\n",
        "    # While there are free men \n",
        "    while (freeCount > 0): \n",
        "          \n",
        "        count += 1  \n",
        "        # Pick the first free man (we could pick any) \n",
        "        m = 0\n",
        "        while (m < N): \n",
        "            if (mFree[m] == False): \n",
        "                break\n",
        "            m += 1\n",
        "  \n",
        "        # One by one go to all women according to  \n",
        "        # m's preferences. Here m is the picked free man \n",
        "        i = 0\n",
        "        while i < N and mFree[m] == False: \n",
        "            w = prefer[m][i] \n",
        "  \n",
        "            # The woman of preference is free,  \n",
        "            # w and m become partners (Note that  \n",
        "            # the partnership maybe changed later).  \n",
        "            # So we can say they are engaged not married \n",
        "            if (wPartner[w - N] == -1): \n",
        "                wPartner[w - N] = m \n",
        "                mFree[m] = True\n",
        "                freeCount -= 1\n",
        "  \n",
        "            else:  \n",
        "                  \n",
        "                # If w is not free \n",
        "                # Find current engagement of w \n",
        "                m1 = wPartner[w - N] \n",
        "  \n",
        "                # If w prefers m over her current engagement m1, \n",
        "                # then break the engagement between w and m1 and \n",
        "                # engage m with w. \n",
        "                if (wPrefersM1OverM(prefer, w, m, m1, n) == False): \n",
        "                    wPartner[w - N] = m \n",
        "                    mFree[m] = True\n",
        "                    mFree[m1] = False\n",
        "            i += 1\n",
        "  \n",
        "            # End of Else \n",
        "        # End of the for loop that goes  \n",
        "        # to all women in m's list \n",
        "    # End of main while loop \n",
        "       \n",
        "    # Prthe solution \n",
        "    print(\"Woman \", \" Man\") \n",
        "    for i in range(N): \n",
        "        print(i + N, \"\\t\", wPartner[i]) \n",
        "\n",
        "    print(\"Times the algorithm were ran: \")\n",
        "    return count"
      ],
      "execution_count": 2,
      "outputs": []
    },
    {
      "cell_type": "markdown",
      "metadata": {
        "id": "Br0ZAAkaQqLk"
      },
      "source": [
        "Best and worst cases for **N=4**"
      ]
    },
    {
      "cell_type": "code",
      "metadata": {
        "id": "Wn8QHLm1ZlEY",
        "colab": {
          "base_uri": "https://localhost:8080/"
        },
        "outputId": "a076f2da-0397-4013-be9d-89bbf6038cb7"
      },
      "source": [
        "N2 = 4\n",
        "prefer2 = []\n",
        "\n",
        "# Fill woman list\n",
        "preferW = [i+N2 for i in range(N2)]\n",
        "prefer2.append(preferW[:])\n",
        "for i in range(N2 - 1):\n",
        "  listaux = preferW[1:N2 - 1]\n",
        "  elemaux = preferW[0]\n",
        "  preferW[N2 - 2] = elemaux\n",
        "  preferW[0:N2 - 2] = listaux[:]\n",
        "  prefer2.append(preferW[:])\n",
        "\n",
        "# Fill man list\n",
        "preferM = [i for i in range(N2)]\n",
        "for i in range(N2):\n",
        "  ax = preferM.pop(0)\n",
        "  preferM.append(ax)\n",
        "  prefer2.append(preferM[:])\n",
        "\n",
        "print(stableMarriage(prefer2, N2))"
      ],
      "execution_count": 3,
      "outputs": [
        {
          "output_type": "stream",
          "text": [
            "Woman   Man\n",
            "4 \t 1\n",
            "5 \t 2\n",
            "6 \t 3\n",
            "7 \t 0\n",
            "Times the algorithm were ran: \n",
            "13\n"
          ],
          "name": "stdout"
        }
      ]
    },
    {
      "cell_type": "code",
      "metadata": {
        "colab": {
          "base_uri": "https://localhost:8080/"
        },
        "id": "wnILUx4uQ3Eq",
        "outputId": "b91f42e7-b65f-40dc-8690-77703927e5bd"
      },
      "source": [
        "preferM = []\n",
        "preferW = []\n",
        "prefer2 = []\n",
        "\n",
        "N2=4\n",
        "\n",
        "# Fill man list\n",
        "preferM = [i + N2 for i in range(N2)]\n",
        "for i in range(N2):\n",
        "  ax = preferM.pop(0)\n",
        "  preferM.append(ax)\n",
        "  prefer2.append(preferM[:])\n",
        "\n",
        "# Fill womman list\n",
        "preferW = [i for i in range(N2)]\n",
        "for i in range(N2):\n",
        "  ax = preferW.pop(0)\n",
        "  preferW.append(ax)\n",
        "  prefer2.append(preferW[:])\n",
        "\n",
        "print(stableMarriage(prefer2, N2))"
      ],
      "execution_count": 4,
      "outputs": [
        {
          "output_type": "stream",
          "text": [
            "Woman   Man\n",
            "4 \t 3\n",
            "5 \t 0\n",
            "6 \t 1\n",
            "7 \t 2\n",
            "Times the algorithm were ran: \n",
            "4\n"
          ],
          "name": "stdout"
        }
      ]
    },
    {
      "cell_type": "markdown",
      "metadata": {
        "id": "iWl5dK0JQ9Fx"
      },
      "source": [
        "Best and worst cases for **N=40**"
      ]
    },
    {
      "cell_type": "code",
      "metadata": {
        "colab": {
          "base_uri": "https://localhost:8080/"
        },
        "id": "YK00dc9LQmuU",
        "outputId": "6853366f-4ebf-4031-d194-8091d96be75d"
      },
      "source": [
        "N2=40\n",
        "prefer2 = []\n",
        "\n",
        "# Fill woman list\n",
        "preferW = [i + N2 for i in range(N2)]\n",
        "prefer2.append(preferW[:])\n",
        "for i in range(N2 - 1):\n",
        "  listaux = preferW[1:N2 - 1]\n",
        "  elemaux = preferW[0]\n",
        "  preferW[N2 - 2] = elemaux\n",
        "  preferW[0:N2 - 2] = listaux[:]\n",
        "  prefer2.append(preferW[:])\n",
        "\n",
        "# Fill man list\n",
        "preferM = [i for i in range(N2)]\n",
        "for i in range(N2):\n",
        "  ax = preferM.pop(0)\n",
        "  preferM.append(ax)\n",
        "  prefer2.append(preferM[:])\n",
        "\n",
        "print(stableMarriage(prefer2, N2))"
      ],
      "execution_count": 5,
      "outputs": [
        {
          "output_type": "stream",
          "text": [
            "Woman   Man\n",
            "40 \t 1\n",
            "41 \t 2\n",
            "42 \t 3\n",
            "43 \t 4\n",
            "44 \t 5\n",
            "45 \t 6\n",
            "46 \t 7\n",
            "47 \t 8\n",
            "48 \t 9\n",
            "49 \t 10\n",
            "50 \t 11\n",
            "51 \t 12\n",
            "52 \t 13\n",
            "53 \t 14\n",
            "54 \t 15\n",
            "55 \t 16\n",
            "56 \t 17\n",
            "57 \t 18\n",
            "58 \t 19\n",
            "59 \t 20\n",
            "60 \t 21\n",
            "61 \t 22\n",
            "62 \t 23\n",
            "63 \t 24\n",
            "64 \t 25\n",
            "65 \t 26\n",
            "66 \t 27\n",
            "67 \t 28\n",
            "68 \t 29\n",
            "69 \t 30\n",
            "70 \t 31\n",
            "71 \t 32\n",
            "72 \t 33\n",
            "73 \t 34\n",
            "74 \t 35\n",
            "75 \t 36\n",
            "76 \t 37\n",
            "77 \t 38\n",
            "78 \t 39\n",
            "79 \t 0\n",
            "Times the algorithm were ran: \n",
            "1561\n"
          ],
          "name": "stdout"
        }
      ]
    },
    {
      "cell_type": "code",
      "metadata": {
        "id": "MO_rqDswfDaR",
        "colab": {
          "base_uri": "https://localhost:8080/"
        },
        "outputId": "0fc8538d-9983-419e-c9f3-6a4da9c9d2c0"
      },
      "source": [
        "preferM = []\n",
        "preferW = []\n",
        "prefer2 = []\n",
        "\n",
        "N2=40\n",
        "\n",
        "# Fill man list\n",
        "preferM = [i+N2 for i in range(N2)]\n",
        "for i in range(N2):\n",
        "  ax = preferM.pop(0)\n",
        "  preferM.append(ax)\n",
        "  prefer2.append(preferM[:])\n",
        "\n",
        "# Fill womman list\n",
        "preferW = [i for i in range(N2)]\n",
        "for i in range(N2):\n",
        "  ax = preferW.pop(0)\n",
        "  preferW.append(ax)\n",
        "  prefer2.append(preferW[:])\n",
        "\n",
        "print(stableMarriage(prefer2, N2))"
      ],
      "execution_count": 6,
      "outputs": [
        {
          "output_type": "stream",
          "text": [
            "Woman   Man\n",
            "40 \t 39\n",
            "41 \t 0\n",
            "42 \t 1\n",
            "43 \t 2\n",
            "44 \t 3\n",
            "45 \t 4\n",
            "46 \t 5\n",
            "47 \t 6\n",
            "48 \t 7\n",
            "49 \t 8\n",
            "50 \t 9\n",
            "51 \t 10\n",
            "52 \t 11\n",
            "53 \t 12\n",
            "54 \t 13\n",
            "55 \t 14\n",
            "56 \t 15\n",
            "57 \t 16\n",
            "58 \t 17\n",
            "59 \t 18\n",
            "60 \t 19\n",
            "61 \t 20\n",
            "62 \t 21\n",
            "63 \t 22\n",
            "64 \t 23\n",
            "65 \t 24\n",
            "66 \t 25\n",
            "67 \t 26\n",
            "68 \t 27\n",
            "69 \t 28\n",
            "70 \t 29\n",
            "71 \t 30\n",
            "72 \t 31\n",
            "73 \t 32\n",
            "74 \t 33\n",
            "75 \t 34\n",
            "76 \t 35\n",
            "77 \t 36\n",
            "78 \t 37\n",
            "79 \t 38\n",
            "Times the algorithm were ran: \n",
            "40\n"
          ],
          "name": "stdout"
        }
      ]
    },
    {
      "cell_type": "markdown",
      "metadata": {
        "id": "fE3LoOdtYZ0y"
      },
      "source": [
        "# Irving´s algorithm"
      ]
    },
    {
      "cell_type": "code",
      "metadata": {
        "id": "oKaFBs2dctl1"
      },
      "source": [
        "\n",
        "def getKey(list, k):\n",
        "    for key, val in list.items():\n",
        "        if val == k:\n",
        "            return key\n",
        "    return 0\n",
        "\n",
        "def cycle(table):\n",
        "    tableI = table[0]\n",
        "    tableD = table[1]\n",
        "    if len(tableI) > len(set(tableI)):\n",
        "        return True\n",
        "    else:\n",
        "        return False\n",
        "\n",
        "def notStable(prefer):\n",
        "    for i in prefer:\n",
        "        if len(prefer[i]) == 0:\n",
        "            return True\n",
        "    return False\n",
        "\n",
        "def isStable(prefer):\n",
        "  for i in prefer:\n",
        "    if len(prefer[i]) != 1:\n",
        "      return False\n",
        "  return True\n",
        "\n",
        "def quitCycle(prefer, table):\n",
        "  nPreferences = prefer\n",
        "  for i in range(len(table[0])-1):\n",
        "    nPreferences[table[1][i]].remove(table[0][i+1])\n",
        "    nPreferences[table[0][i+1]].remove(table[1][i])\n",
        "  return nPreferences\n",
        "\n",
        "def step1(prefer):\n",
        "  wait = []\n",
        "  proposal = {}\n",
        "  nProposal = {}\n",
        "  steps = 0\n",
        "  for i in prefer:\n",
        "    wait.append(i)\n",
        "    proposal[i] = None\n",
        "    nProposal[i] = 0\n",
        "  nPreferences = copy.deepcopy(prefer)\n",
        "  while not len(wait) == 0:\n",
        "    i = wait[0]\n",
        "    nProposal[i]+=1\n",
        "    steps += 1\n",
        "    if nProposal[i] > len(proposal):\n",
        "      print(\"There are no stable couples...\")\n",
        "      return (False,False)\n",
        "    for j in prefer[i]:\n",
        "      if proposal[j] == None:\n",
        "        del wait[0]\n",
        "        proposal[j] = i\n",
        "        break\n",
        "      elif proposal[j] != i:\n",
        "        actual = prefer[j].index(i)\n",
        "        otro = prefer[j].index(proposal[j])\n",
        "        if actual < otro:\n",
        "          del wait[0]\n",
        "          wait.insert(0, proposal[j])\n",
        "          nPreferences[proposal[j]].remove(j)\n",
        "          nPreferences[j].remove(proposal[j])\n",
        "          proposal[j] = i\n",
        "          break\n",
        "        else:\n",
        "          nPreferences[i].remove(j)\n",
        "          nPreferences[j].remove(i)\n",
        "    prefer = copy.deepcopy(nPreferences)\n",
        "  return (proposal, prefer, steps)\n",
        "\n",
        "def step2(proposal, prefer, steps):\n",
        "  nPreferences=copy.deepcopy(prefer)\n",
        "  for k in prefer:\n",
        "    indexProposal = nPreferences[k].index(proposal[k])\n",
        "    nPreferences[k] = nPreferences[k][:indexProposal+1]\n",
        "    for j in prefer:\n",
        "      key= getKey(proposal, k)\n",
        "      if j != k and j != proposal[k] and j != key:\n",
        "        try:\n",
        "          nPreferences[j].remove(k)\n",
        "        except ValueError:\n",
        "          pass\n",
        "  return (nPreferences, steps)\n",
        "\n",
        "\n",
        "def step3(prefer, steps):\n",
        "  checker = True\n",
        "  while True:\n",
        "    table=([],[])\n",
        "    if notStable(prefer):\n",
        "      print(\"There are no stable couples...\")\n",
        "      return False\n",
        "    for i in prefer:\n",
        "      if len(prefer[i]) >= 2 and checker == True:\n",
        "        match1 = i\n",
        "        table[0].append(match1)\n",
        "        match2 = prefer[i][1]\n",
        "        table[1].append(match2)\n",
        "        checker = False\n",
        "        steps+=1\n",
        "      elif checker == False:\n",
        "        if (cycle(table)):\n",
        "          prefer=quitCycle(prefer, table)\n",
        "          checker = True\n",
        "          steps+=1\n",
        "          break\n",
        "        match1 = prefer[match2][-1]\n",
        "        table[0].append(match1)\n",
        "        match2 = prefer[match1][1]\n",
        "        table[1].append(match2)\n",
        "        steps+=1\n",
        "    if isStable(prefer):\n",
        "      return (prefer, steps)\n",
        "\n",
        "  return False\n",
        "def irving(prefer):\n",
        "  a = step1(prefer)\n",
        "  proposal = a[0]\n",
        "  if proposal == False:\n",
        "    return False\n",
        "  prefer1 = a[1]\n",
        "  steps = a[2]\n",
        "  prefer2 = step2(proposal, prefer1, steps)[0]\n",
        "  steps = step2(proposal, prefer1, steps)[1]\n",
        "  if step2 == False:\n",
        "    return False\n",
        "  prefer3 = step3(prefer2, steps)\n",
        "  matches = prefer3[0]\n",
        "  steps = prefer3[1]\n",
        "  for i in matches:\n",
        "    a = i\n",
        "    for j in matches[i]:\n",
        "      print(a,\" => \", j)\n",
        "  print(\"Number of steps of this algorithm: \",steps)"
      ],
      "execution_count": 7,
      "outputs": []
    },
    {
      "cell_type": "markdown",
      "metadata": {
        "id": "rK6YWel3ZBBL"
      },
      "source": [
        "Worst Case for **N = 4**"
      ]
    },
    {
      "cell_type": "code",
      "metadata": {
        "colab": {
          "base_uri": "https://localhost:8080/"
        },
        "id": "IHdpIlZgY-pO",
        "outputId": "66579db4-7ed6-4769-8618-fbd0477ce64f"
      },
      "source": [
        "# for N = 4\n",
        "def worst(n):\n",
        "  prefer={}\n",
        "  for k in range(n):\n",
        "      ni=n\n",
        "      list=[]\n",
        "      for i in range(k+1,n):\n",
        "        list.append(i)\n",
        "      for j in range (k):\n",
        "        list.append(j)\n",
        "      prefer[k]=list\n",
        "  return prefer\n",
        "a=worst(4)\n",
        "irving(a)"
      ],
      "execution_count": 8,
      "outputs": [
        {
          "output_type": "stream",
          "text": [
            "0  =>  3\n",
            "1  =>  2\n",
            "2  =>  1\n",
            "3  =>  0\n",
            "Number of steps of this algorithm:  8\n"
          ],
          "name": "stdout"
        }
      ]
    },
    {
      "cell_type": "markdown",
      "metadata": {
        "id": "175G9SyudzAV"
      },
      "source": [
        "Worst Case for **N = 40**"
      ]
    },
    {
      "cell_type": "code",
      "metadata": {
        "colab": {
          "base_uri": "https://localhost:8080/"
        },
        "id": "d8FsLtXpYu5l",
        "outputId": "68febc7d-4716-4545-858a-bc8a1d386e03"
      },
      "source": [
        "# for N = 40\n",
        "a = worst(40)\n",
        "irving(a)"
      ],
      "execution_count": 9,
      "outputs": [
        {
          "output_type": "stream",
          "text": [
            "0  =>  39\n",
            "1  =>  2\n",
            "2  =>  1\n",
            "3  =>  4\n",
            "4  =>  3\n",
            "5  =>  6\n",
            "6  =>  5\n",
            "7  =>  8\n",
            "8  =>  7\n",
            "9  =>  10\n",
            "10  =>  9\n",
            "11  =>  12\n",
            "12  =>  11\n",
            "13  =>  14\n",
            "14  =>  13\n",
            "15  =>  16\n",
            "16  =>  15\n",
            "17  =>  18\n",
            "18  =>  17\n",
            "19  =>  20\n",
            "20  =>  19\n",
            "21  =>  22\n",
            "22  =>  21\n",
            "23  =>  24\n",
            "24  =>  23\n",
            "25  =>  26\n",
            "26  =>  25\n",
            "27  =>  28\n",
            "28  =>  27\n",
            "29  =>  30\n",
            "30  =>  29\n",
            "31  =>  32\n",
            "32  =>  31\n",
            "33  =>  34\n",
            "34  =>  33\n",
            "35  =>  36\n",
            "36  =>  35\n",
            "37  =>  38\n",
            "38  =>  37\n",
            "39  =>  0\n",
            "Number of steps of this algorithm:  62\n"
          ],
          "name": "stdout"
        }
      ]
    },
    {
      "cell_type": "markdown",
      "metadata": {
        "id": "1Cxaex6hZE_o"
      },
      "source": [
        "Best Case for **N = 4**"
      ]
    },
    {
      "cell_type": "code",
      "metadata": {
        "colab": {
          "base_uri": "https://localhost:8080/"
        },
        "id": "pZyj4dRoZkQg",
        "outputId": "6790a9f9-ba85-4bfa-dac6-61d85710d7d1"
      },
      "source": [
        "# for N = 4\n",
        "def best(n):\n",
        "  prefer={}\n",
        "  for k in range(n):\n",
        "      list=[]\n",
        "      list.append(n-k-1)\n",
        "      while not len(list)==n-1:\n",
        "        r=random.randint(0,n-1)\n",
        "        if r not in list and r!=k:\n",
        "          list.append(r)\n",
        "      prefer[k]=list\n",
        "  return prefer\n",
        "irving(best(4))"
      ],
      "execution_count": 10,
      "outputs": [
        {
          "output_type": "stream",
          "text": [
            "0  =>  3\n",
            "1  =>  2\n",
            "2  =>  1\n",
            "3  =>  0\n",
            "Number of steps of this algorithm:  4\n"
          ],
          "name": "stdout"
        }
      ]
    },
    {
      "cell_type": "markdown",
      "metadata": {
        "id": "bscV9pWUd5Xu"
      },
      "source": [
        "Worst Case for **N = 40**"
      ]
    },
    {
      "cell_type": "code",
      "metadata": {
        "colab": {
          "base_uri": "https://localhost:8080/"
        },
        "id": "AamoUg4PYiyx",
        "outputId": "4ed6bd83-4a7b-4501-b767-de652676ace2"
      },
      "source": [
        "# for N = 40\n",
        "irving(best(40))"
      ],
      "execution_count": 11,
      "outputs": [
        {
          "output_type": "stream",
          "text": [
            "0  =>  39\n",
            "1  =>  38\n",
            "2  =>  37\n",
            "3  =>  36\n",
            "4  =>  35\n",
            "5  =>  34\n",
            "6  =>  33\n",
            "7  =>  32\n",
            "8  =>  31\n",
            "9  =>  30\n",
            "10  =>  29\n",
            "11  =>  28\n",
            "12  =>  27\n",
            "13  =>  26\n",
            "14  =>  25\n",
            "15  =>  24\n",
            "16  =>  23\n",
            "17  =>  22\n",
            "18  =>  21\n",
            "19  =>  20\n",
            "20  =>  19\n",
            "21  =>  18\n",
            "22  =>  17\n",
            "23  =>  16\n",
            "24  =>  15\n",
            "25  =>  14\n",
            "26  =>  13\n",
            "27  =>  12\n",
            "28  =>  11\n",
            "29  =>  10\n",
            "30  =>  9\n",
            "31  =>  8\n",
            "32  =>  7\n",
            "33  =>  6\n",
            "34  =>  5\n",
            "35  =>  4\n",
            "36  =>  3\n",
            "37  =>  2\n",
            "38  =>  1\n",
            "39  =>  0\n",
            "Number of steps of this algorithm:  40\n"
          ],
          "name": "stdout"
        }
      ]
    },
    {
      "cell_type": "markdown",
      "metadata": {
        "id": "2ZWAdYlQSlT_"
      },
      "source": [
        "# Random preference list - extra credit"
      ]
    },
    {
      "cell_type": "code",
      "metadata": {
        "id": "J9tRakXyqR4Y"
      },
      "source": [
        "def preferMarriages(n):\n",
        "  prefer = []\n",
        "  n_n = 2*n\n",
        "  for j in range(n):\n",
        "    list = []\n",
        "    while not len(list) == n:\n",
        "      r = random.randint(0, n - 1)\n",
        "      if r not in list: list.append(r)\n",
        "    prefer.insert(j, list)\n",
        "  for k in range(n):\n",
        "    list = []\n",
        "    while not len(list) == n:\n",
        "      r = random.randint(n + 1, n_n)\n",
        "      if r not in list: list.append(r)\n",
        "    prefer.insert(n + k, list)\n",
        "  return prefer"
      ],
      "execution_count": 12,
      "outputs": []
    },
    {
      "cell_type": "code",
      "metadata": {
        "id": "Ji4ToP2bUq5h"
      },
      "source": [
        "# This function returns true if  \n",
        "# woman 'w' prefers man 'm1' over man 'm' \n",
        "def wPrefersM1OverM(prefer, w, m, m1, n): \n",
        "      \n",
        "    N = n  \n",
        "    # Check if w prefers m over her  \n",
        "    # current engagment m1 \n",
        "    for i in range(N): \n",
        "          \n",
        "        # If m1 comes before m in lisr of w,  \n",
        "        # then w prefers her current engagement, \n",
        "        # don't do anything \n",
        "        if (prefer[w][i] == m1): \n",
        "            return True\n",
        "  \n",
        "        # If m cmes before m1 in w's list,  \n",
        "        # then free her current engagement  \n",
        "        # and engage her with m \n",
        "        if (prefer[w][i] == m): \n",
        "            return False\n",
        "            \n",
        "# Prints stable matching for N boys and N girls.  \n",
        "# Boys are numbered as 0 to N-1.  \n",
        "# Girls are numbereed as N to 2N-1. \n",
        "def stableMarriage(prefer, n): \n",
        "      \n",
        "    # Stores partner of women. This is our output  \n",
        "    # array that stores paing information.  \n",
        "    # The value of wPartner[i] indicates the partner  \n",
        "    # assigned to woman N+i. Note that the woman numbers  \n",
        "    # between N and 2*N-1. The value -1 indicates  \n",
        "    # that (N+i)'th woman is free \n",
        "    N = n\n",
        "    wPartner = [-1 for i in range(N)] \n",
        "  \n",
        "    # An array to store availability of men.  \n",
        "    # If mFree[i] is false, then man 'i' is free, \n",
        "    # otherwise engaged. \n",
        "    mFree = [False for i in range(N)] \n",
        "  \n",
        "    freeCount = N \n",
        "    count = 0\n",
        "    # While there are free men \n",
        "    while (freeCount > 0): \n",
        "          \n",
        "        count += 1  \n",
        "        # Pick the first free man (we could pick any) \n",
        "        m = 0\n",
        "        while (m < N): \n",
        "            if (mFree[m] == False): \n",
        "                break\n",
        "            m += 1\n",
        "  \n",
        "        # One by one go to all women according to  \n",
        "        # m's preferences. Here m is the picked free man \n",
        "        i = 0\n",
        "        while i < N and mFree[m] == False: \n",
        "            w = prefer[m][i] \n",
        "  \n",
        "            # The woman of preference is free,  \n",
        "            # w and m become partners (Note that  \n",
        "            # the partnership maybe changed later).  \n",
        "            # So we can say they are engaged not married \n",
        "            if (wPartner[w - N] == -1): \n",
        "                wPartner[w - N] = m \n",
        "                mFree[m] = True\n",
        "                freeCount -= 1\n",
        "  \n",
        "            else:  \n",
        "                  \n",
        "                # If w is not free \n",
        "                # Find current engagement of w \n",
        "                m1 = wPartner[w - N] \n",
        "  \n",
        "                # If w prefers m over her current engagement m1, \n",
        "                # then break the engagement between w and m1 and \n",
        "                # engage m with w. \n",
        "                if (wPrefersM1OverM(prefer, w, m, m1, n) == False): \n",
        "                    wPartner[w - N] = m \n",
        "                    mFree[m] = True\n",
        "                    mFree[m1] = False\n",
        "            i += 1\n",
        "  \n",
        "            # End of Else \n",
        "        # End of the for loop that goes  \n",
        "        # to all women in m's list \n",
        "    # End of main while loop \n",
        "       \n",
        "    return count"
      ],
      "execution_count": 13,
      "outputs": []
    },
    {
      "cell_type": "code",
      "metadata": {
        "colab": {
          "base_uri": "https://localhost:8080/"
        },
        "id": "9UsQYzyjTEQg",
        "outputId": "a869f936-771b-49bb-8b39-4250ecf89ece"
      },
      "source": [
        "def Average(lst): \n",
        "    return sum(lst) / len(lst) \n",
        "\n",
        "# 100 times for N = 4\n",
        "lot = []\n",
        "for i in range(100):\n",
        "  lot.append(stableMarriage(preferMarriages(4),4))\n",
        "\n",
        "aux = lot\n",
        "res = []\n",
        "Ma = 0\n",
        "Mi = 100\n",
        "#Minimun, Maximun and Average\n",
        "for i in aux:\n",
        "  x = aux.pop(0)\n",
        "  if (x > Ma):\n",
        "    Ma = x\n",
        "  if (x < Mi):\n",
        "    Mi = x\n",
        "print(\"Maximo: \", Ma, \" Minimo: \", Mi, \" Average: \", Average(lot))"
      ],
      "execution_count": 14,
      "outputs": [
        {
          "output_type": "stream",
          "text": [
            "Maximo:  8  Minimo:  4  Average:  4.96\n"
          ],
          "name": "stdout"
        }
      ]
    },
    {
      "cell_type": "code",
      "metadata": {
        "colab": {
          "base_uri": "https://localhost:8080/",
          "height": 312
        },
        "id": "H3NS4krAUx96",
        "outputId": "2db18d81-e780-4910-b753-8fec7a808399"
      },
      "source": [
        "plt.plot(lot)   # plot the data\n",
        "plt.title(\"Title\")   # put title\n",
        "plt.xlabel(\"Total\")   # put tag x\n",
        "plt.ylabel(\"Times\")   # put tag y "
      ],
      "execution_count": 15,
      "outputs": [
        {
          "output_type": "execute_result",
          "data": {
            "text/plain": [
              "Text(0, 0.5, 'Times')"
            ]
          },
          "metadata": {
            "tags": []
          },
          "execution_count": 15
        },
        {
          "output_type": "display_data",
          "data": {
            "image/png": "[encoded data removed]",
            "text/plain": [
              "<Figure size 432x288 with 1 Axes>"
            ]
          },
          "metadata": {
            "tags": [],
            "needs_background": "light"
          }
        }
      ]
    },
    {
      "cell_type": "code",
      "metadata": {
        "colab": {
          "base_uri": "https://localhost:8080/"
        },
        "id": "gzb9mJy4XTft",
        "outputId": "9275e6b9-12c4-4832-f627-1d792fb75a10"
      },
      "source": [
        "import matplotlib.pyplot as plt\n",
        "import numpy as np\n",
        "\n",
        "def Average(lst): \n",
        "    return sum(lst) / len(lst) \n",
        "\n",
        "# 100 times for N = 40\n",
        "lot = []\n",
        "for i in range(100):\n",
        "  lot.append(stableMarriage(preferMarriages(40),40))\n",
        "\n",
        "aux = lot\n",
        "res = []\n",
        "Ma = 0\n",
        "Mi = 100\n",
        "#Minimun, Maximun and Average\n",
        "for i in aux:\n",
        "  x = aux.pop(0)\n",
        "  if (x > Ma):\n",
        "    Ma = x\n",
        "  if (x < Mi):\n",
        "    Mi = x\n",
        "print(\"Max: \", Ma)\n",
        "print(\" Min: \", Mi)\n",
        "print(\" Average: \", Average(lot))"
      ],
      "execution_count": 16,
      "outputs": [
        {
          "output_type": "stream",
          "text": [
            "Max:  98\n",
            " Min:  66\n",
            " Average:  76.82\n"
          ],
          "name": "stdout"
        }
      ]
    },
    {
      "cell_type": "code",
      "metadata": {
        "colab": {
          "base_uri": "https://localhost:8080/",
          "height": 312
        },
        "id": "mIoIERXeXZ9R",
        "outputId": "024d2296-d99a-4f4d-f73e-861c71d86ca8"
      },
      "source": [
        "plt.plot(lot)   # plot the data\n",
        "plt.title(\"Title\")   # put title\n",
        "plt.xlabel(\"Total\")   # put tag x\n",
        "plt.ylabel(\"Times\")   # put tag y"
      ],
      "execution_count": 17,
      "outputs": [
        {
          "output_type": "execute_result",
          "data": {
            "text/plain": [
              "Text(0, 0.5, 'Times')"
            ]
          },
          "metadata": {
            "tags": []
          },
          "execution_count": 17
        },
        {
          "output_type": "display_data",
          "data": {
            "image/png": "[encoded data removed]",
            "text/plain": [
              "<Figure size 432x288 with 1 Axes>"
            ]
          },
          "metadata": {
            "tags": [],
            "needs_background": "light"
          }
        }
      ]
    }
  ]
}